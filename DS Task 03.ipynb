{
 "cells": [
  {
   "cell_type": "code",
   "execution_count": 3,
   "id": "d70ad6ca",
   "metadata": {},
   "outputs": [
    {
     "name": "stdout",
     "output_type": "stream",
     "text": [
      "[1, 4, 9, 16, 25, 36, 49]\n"
     ]
    }
   ],
   "source": [
    "#Given a list of numbers. write a program to turn every item of a list into its square.\n",
    "\n",
    "#Given:\n",
    "\n",
    "#numbers = [1, 2, 3, 4, 5, 6, 7]\n",
    "\n",
    "\n",
    "l = [1, 2, 3, 4, 5, 6, 7]\n",
    "l1=[int(l[i])**2 for i in range(len(l))]\n",
    "print(l1)"
   ]
  },
  {
   "cell_type": "code",
   "execution_count": 5,
   "id": "be7595ed",
   "metadata": {},
   "outputs": [
    {
     "name": "stdout",
     "output_type": "stream",
     "text": [
      "[10, 20, [300, 400, [5000, 6000, 7000], 500], 30, 40]\n"
     ]
    }
   ],
   "source": [
    "#Write a program to add item 7000 after 6000 in the following Python List\n",
    "\n",
    "#Given:\n",
    "\n",
    "#list1 = [10, 20, [300, 400, [5000, 6000], 500], 30, 40]\n",
    "\n",
    "# Given list\n",
    "list1 = [10, 20, [300, 400, [5000, 6000], 500], 30, 40]\n",
    "\n",
    "# Function to add item 7000 after 6000\n",
    "def add_item(lst, item_to_add, after_item):\n",
    "    for i, item in enumerate(lst):\n",
    "        if item == after_item:\n",
    "            # Insert the new item after the specified item\n",
    "            lst.insert(i + 1, item_to_add)\n",
    "        elif isinstance(item, list):\n",
    "            # Recursively search through nested lists\n",
    "            add_item(item, item_to_add, after_item)\n",
    "\n",
    "# Add item 7000 after 6000\n",
    "add_item(list1, 7000, 6000)\n",
    "\n",
    "#display the new list\n",
    "print(list1)"
   ]
  },
  {
   "cell_type": "code",
   "execution_count": null,
   "id": "42eb2111",
   "metadata": {},
   "outputs": [],
   "source": [
    "#You have given a Python list. Write a program to find value 20 in the list, and if it is present, replace it with 200. Only update the first occurrence of an item.\n",
    "#Given:\n",
    "#list1 = [5, 10, 15, 20, 25, 50, 20]\n",
    "\n",
    "list1 = [5, 10, 15, 20, 25, 50, 20]\n",
    "\n",
    "if 20 in list1:\n",
    "    index = list1.index(20)\n",
    "    list1[index] = 200\n",
    "    \n",
    "print(list1)\n",
    "\n"
   ]
  },
  {
   "cell_type": "code",
   "execution_count": null,
   "id": "caa1302b",
   "metadata": {},
   "outputs": [],
   "source": []
  }
 ],
 "metadata": {
  "kernelspec": {
   "display_name": "Python 3 (ipykernel)",
   "language": "python",
   "name": "python3"
  },
  "language_info": {
   "codemirror_mode": {
    "name": "ipython",
    "version": 3
   },
   "file_extension": ".py",
   "mimetype": "text/x-python",
   "name": "python",
   "nbconvert_exporter": "python",
   "pygments_lexer": "ipython3",
   "version": "3.11.5"
  }
 },
 "nbformat": 4,
 "nbformat_minor": 5
}
