{
 "cells": [
  {
   "cell_type": "code",
   "execution_count": 1,
   "id": "8fe4b7fe",
   "metadata": {},
   "outputs": [
    {
     "name": "stdout",
     "output_type": "stream",
     "text": [
      "The division by zero operation is not allowed.\n"
     ]
    }
   ],
   "source": [
    "#Write a Python program to handle a ZeroDivisionError exception when dividing a number by zero.\n",
    "\n",
    "# Define a function named divide_numbers that takes two parameters: x and y.\n",
    "def divide_numbers(x, y):\n",
    "    try:\n",
    "        # Attempt to perform the division operation and store the result in the 'result' variable.\n",
    "        result = x / y\n",
    "        # Print the result of the division.\n",
    "        print(\"Result:\", result)\n",
    "    except ZeroDivisionError:\n",
    "        # Handle the exception if a division by zero is attempted.\n",
    "        print(\"The division by zero operation is not allowed.\")\n",
    "\n",
    "# Usage\n",
    "# Define the numerator and denominator values.\n",
    "numerator = 100\n",
    "denominator = 0\n",
    "# Call the divide_numbers function with the provided numerator and denominator.\n",
    "divide_numbers(numerator, denominator)\n"
   ]
  },
  {
   "cell_type": "code",
   "execution_count": 2,
   "id": "719135f8",
   "metadata": {},
   "outputs": [
    {
     "name": "stdout",
     "output_type": "stream",
     "text": [
      "Input a file name: games.png\n",
      "Error: File not found.\n"
     ]
    }
   ],
   "source": [
    "#Write a Python program that opens a file and handles a FileNotFoundError exception if the file does not exist.\n",
    "\n",
    "# Define a function named open_file that takes a filename as a parameter.\n",
    "def open_file(filename):\n",
    "    try:\n",
    "        # Attempt to open the specified file in read mode ('r').\n",
    "        file = open(filename, 'r')\n",
    "        # Read the contents of the file and store them in the 'contents' variable.\n",
    "        contents = file.read()\n",
    "        # Print a message to indicate that the file contents will be displayed.\n",
    "        print(\"File contents:\")\n",
    "        # Print the contents of the file.\n",
    "        print(contents)\n",
    "        # Close the file to release system resources.\n",
    "        file.close()\n",
    "    except FileNotFoundError:\n",
    "        # Handle the exception if the specified file is not found.\n",
    "        print(\"Error: File not found.\")\n",
    "\n",
    "# Usage\n",
    "# Prompt the user to input a file name and store it in the 'file_name' variable.\n",
    "file_name = input(\"Input a file name: \")\n",
    "# Call the open_file function with the provided file name.\n",
    "open_file(file_name) \n"
   ]
  },
  {
   "cell_type": "code",
   "execution_count": 4,
   "id": "a13b5d77",
   "metadata": {},
   "outputs": [
    {
     "name": "stdout",
     "output_type": "stream",
     "text": [
      "Please enter an integer: b\n"
     ]
    },
    {
     "ename": "ValueError",
     "evalue": "Invalid input. Please enter a valid integer.",
     "output_type": "error",
     "traceback": [
      "\u001b[1;31m---------------------------------------------------------------------------\u001b[0m",
      "\u001b[1;31mValueError\u001b[0m                                Traceback (most recent call last)",
      "Cell \u001b[1;32mIn[4], line 8\u001b[0m\n\u001b[0;32m      7\u001b[0m \u001b[38;5;66;03m# Try to convert the input to an integer\u001b[39;00m\n\u001b[1;32m----> 8\u001b[0m integer_value \u001b[38;5;241m=\u001b[39m \u001b[38;5;28mint\u001b[39m(user_input)\n\u001b[0;32m     10\u001b[0m \u001b[38;5;66;03m# If successful, print the integer\u001b[39;00m\n",
      "\u001b[1;31mValueError\u001b[0m: invalid literal for int() with base 10: 'b'",
      "\nDuring handling of the above exception, another exception occurred:\n",
      "\u001b[1;31mValueError\u001b[0m                                Traceback (most recent call last)",
      "Cell \u001b[1;32mIn[4], line 15\u001b[0m\n\u001b[0;32m     11\u001b[0m     \u001b[38;5;28mprint\u001b[39m(\u001b[38;5;124m\"\u001b[39m\u001b[38;5;124mYou entered:\u001b[39m\u001b[38;5;124m\"\u001b[39m, integer_value)\n\u001b[0;32m     13\u001b[0m \u001b[38;5;28;01mexcept\u001b[39;00m \u001b[38;5;167;01mValueError\u001b[39;00m:\n\u001b[0;32m     14\u001b[0m     \u001b[38;5;66;03m# If the input cannot be converted to an integer, raise a ValueError exception\u001b[39;00m\n\u001b[1;32m---> 15\u001b[0m     \u001b[38;5;28;01mraise\u001b[39;00m \u001b[38;5;167;01mValueError\u001b[39;00m(\u001b[38;5;124m\"\u001b[39m\u001b[38;5;124mInvalid input. Please enter a valid integer.\u001b[39m\u001b[38;5;124m\"\u001b[39m)\n",
      "\u001b[1;31mValueError\u001b[0m: Invalid input. Please enter a valid integer."
     ]
    }
   ],
   "source": [
    "#Write a Python program that prompts the user to input an integer and raises a ValueError exception if the input is not a valid integer.\n",
    "\n",
    "try:\n",
    "    # Prompt the user to input an integer\n",
    "    user_input = input(\"Please enter an integer: \")\n",
    "    \n",
    "    # Try to convert the input to an integer\n",
    "    integer_value = int(user_input)\n",
    "    \n",
    "    # If successful, print the integer\n",
    "    print(\"You entered:\", integer_value)\n",
    "    \n",
    "except ValueError:\n",
    "    # If the input cannot be converted to an integer, raise a ValueError exception\n",
    "    raise ValueError(\"Invalid input. Please enter a valid integer.\")\n",
    "\n",
    "\n"
   ]
  },
  {
   "cell_type": "code",
   "execution_count": 5,
   "id": "fc9cd4fb",
   "metadata": {},
   "outputs": [
    {
     "name": "stdout",
     "output_type": "stream",
     "text": [
      "Please enter the first number: 2\n",
      "Please enter the second number: 4\n",
      "You entered: 2.0 and 4.0\n"
     ]
    }
   ],
   "source": [
    "#Write a Python program that prompts the user to input two numbers and raises a TypeError exception if the inputs are not numerical.\n",
    "\n",
    "try:\n",
    "    # Prompt the user to input the first number\n",
    "    num1 = input(\"Please enter the first number: \")\n",
    "    \n",
    "    # Try to convert the input to a float\n",
    "    num1 = float(num1)\n",
    "    \n",
    "    # Prompt the user to input the second number\n",
    "    num2 = input(\"Please enter the second number: \")\n",
    "    \n",
    "    # Try to convert the input to a float\n",
    "    num2 = float(num2)\n",
    "    \n",
    "    # If successful, print the numbers\n",
    "    print(\"You entered:\", num1, \"and\", num2)\n",
    "    \n",
    "except ValueError:\n",
    "    # If the input cannot be converted to a float, raise a TypeError exception\n",
    "    raise TypeError(\"Invalid input. Please enter numerical values.\")"
   ]
  }
 ],
 "metadata": {
  "kernelspec": {
   "display_name": "Python 3 (ipykernel)",
   "language": "python",
   "name": "python3"
  },
  "language_info": {
   "codemirror_mode": {
    "name": "ipython",
    "version": 3
   },
   "file_extension": ".py",
   "mimetype": "text/x-python",
   "name": "python",
   "nbconvert_exporter": "python",
   "pygments_lexer": "ipython3",
   "version": "3.11.5"
  }
 },
 "nbformat": 4,
 "nbformat_minor": 5
}
